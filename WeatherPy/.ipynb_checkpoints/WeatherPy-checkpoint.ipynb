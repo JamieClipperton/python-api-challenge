{
 "cells": [
  {
   "cell_type": "markdown",
   "metadata": {},
   "source": [
    "# WeatherPy\n",
    "----\n",
    "\n",
    "#### Note\n",
    "* Instructions have been included for each segment. You do not have to follow them exactly, but they are included to help you think through the steps."
   ]
  },
  {
   "cell_type": "code",
   "execution_count": 43,
   "metadata": {
    "scrolled": true
   },
   "outputs": [],
   "source": [
    "# Dependencies and Setup\n",
    "import matplotlib.pyplot as plt\n",
    "import pandas as pd\n",
    "import numpy as np\n",
    "import requests\n",
    "import time\n",
    "from scipy.stats import linregress\n",
    "import json\n",
    "\n",
    "# Import API key\n",
    "from api_keys import weather_api_key\n",
    "\n",
    "# Incorporated citipy to determine city based on latitude and longitude\n",
    "from citipy import citipy\n",
    "\n",
    "# Output File (CSV)\n",
    "output_data_file = \"output_data/cities.csv\"\n",
    "\n",
    "#url\n",
    "#weat_url = f\"https://api.openweathermap.org/data/2.5/weather?units=Imperial&APPID=\" + weather_api_key\n",
    "\n",
    "# Range of latitudes and longitudes\n",
    "lat_range = (-90, 90)\n",
    "lng_range = (-180, 180)\n",
    "\n"
   ]
  },
  {
   "cell_type": "markdown",
   "metadata": {},
   "source": [
    "## Generate Cities List"
   ]
  },
  {
   "cell_type": "code",
   "execution_count": 44,
   "metadata": {},
   "outputs": [
    {
     "data": {
      "text/plain": [
       "634"
      ]
     },
     "execution_count": 44,
     "metadata": {},
     "output_type": "execute_result"
    }
   ],
   "source": [
    "# List for holding lat_lngs and cities\n",
    "lat_lngs = []\n",
    "cities = []\n",
    "\n",
    "lat_range = (-90, 90)\n",
    "lng_range = (-180, 180)\n",
    "\n",
    "# Create a set of random lat and lng combinations\n",
    "lats = np.random.uniform(low=-90.000, high=90.000, size=1500)\n",
    "lngs = np.random.uniform(low=-180.000, high=180.000, size=1500)\n",
    "lat_lngs = zip(lats, lngs)\n",
    "\n",
    "\n",
    "# Identify nearest city for each lat, lng combination\n",
    "for lat_lng in lat_lngs:\n",
    "    city = citipy.nearest_city(lat_lng[0], lat_lng[1]).city_name\n",
    "    \n",
    "    # If the city is unique, then add it to a our cities list\n",
    "    if city not in cities:\n",
    "        cities.append(city)\n",
    "\n",
    "# Print the city count to confirm sufficient count\n",
    "len(cities)"
   ]
  },
  {
   "cell_type": "markdown",
   "metadata": {},
   "source": [
    "### Perform API Calls\n",
    "* Perform a weather check on each city using a series of successive API calls.\n",
    "* Include a print log of each city as it'sbeing processed (with the city number and city name).\n"
   ]
  },
  {
   "cell_type": "code",
   "execution_count": 45,
   "metadata": {},
   "outputs": [],
   "source": [
    "weat_url = \"https://api.openweathermap.org/data/2.5/weather?units=Imperial\"\n",
    "url_wkey= weat_url + \"&appid=\" + weather_api_key"
   ]
  },
  {
   "cell_type": "code",
   "execution_count": 46,
   "metadata": {
    "scrolled": true
   },
   "outputs": [
    {
     "name": "stdout",
     "output_type": "stream",
     "text": [
      "Begin API Call to OpenWeather Database \n",
      "--------------------------------------\n",
      "Gathered hermanus's infromation,0\n",
      "Gathered loa janan's infromation,1\n",
      "Gathered yellowknife's infromation,2\n",
      "Gathered gilgit's infromation,3\n",
      "Gathered esperance's infromation,4\n",
      "Gathered norman wells's infromation,5\n",
      "Could not find matameye's information,6\n",
      "Gathered cape town's infromation,7\n",
      "Gathered tevaitoa's infromation,8\n",
      "Gathered tasiilaq's infromation,9\n",
      "Gathered lebedinyy's infromation,10\n",
      "Gathered hithadhoo's infromation,11\n",
      "Gathered rincon's infromation,12\n",
      "Gathered izvestkovyy's infromation,13\n",
      "Gathered albany's infromation,14\n",
      "Gathered poya's infromation,15\n",
      "Gathered qaanaaq's infromation,16\n",
      "Gathered avarua's infromation,17\n",
      "Gathered east london's infromation,18\n",
      "Gathered bawku's infromation,19\n",
      "Gathered codrington's infromation,20\n",
      "Could not find guajara-mirim's information,21\n",
      "Gathered bluff's infromation,22\n",
      "Gathered biak's infromation,23\n",
      "Gathered upernavik's infromation,24\n",
      "Gathered margate's infromation,25\n",
      "Could not find belushya guba's information,26\n",
      "Gathered novyy urengoy's infromation,27\n",
      "Gathered nikolskoye's infromation,28\n",
      "Gathered samarai's infromation,29\n",
      "Gathered marawi's infromation,30\n",
      "Gathered colombia's infromation,31\n",
      "Gathered senno's infromation,32\n",
      "Gathered geraldton's infromation,33\n",
      "Gathered ixtapa's infromation,34\n",
      "Gathered port blair's infromation,35\n",
      "Could not find barentsburg's information,36\n",
      "Gathered carnarvon's infromation,37\n",
      "Gathered jalu's infromation,38\n",
      "Gathered arraial do cabo's infromation,39\n",
      "Gathered rikitea's infromation,40\n",
      "Gathered new norfolk's infromation,41\n",
      "Gathered punta arenas's infromation,42\n",
      "Gathered port alfred's infromation,43\n",
      "Gathered shitanjing's infromation,44\n",
      "Gathered krasnyy kut's infromation,45\n",
      "Gathered cherskiy's infromation,46\n",
      "Gathered southampton's infromation,47\n",
      "Could not find mys shmidta's information,48\n",
      "Gathered hofn's infromation,49\n",
      "Maximum API call limit reached, waiting 60 seconds\n",
      "Gathered kibre mengist's infromation,50\n",
      "Gathered beipiao's infromation,51\n",
      "Gathered ponta do sol's infromation,52\n",
      "Gathered vaini's infromation,53\n",
      "Gathered pevek's infromation,54\n",
      "Gathered hilo's infromation,55\n",
      "Gathered goldap's infromation,56\n",
      "Gathered ushuaia's infromation,57\n",
      "Gathered huarmey's infromation,58\n",
      "Gathered hachinohe's infromation,59\n",
      "Gathered chuy's infromation,60\n",
      "Gathered castro's infromation,61\n",
      "Gathered lagoa's infromation,62\n",
      "Gathered kurunegala's infromation,63\n",
      "Gathered ilhabela's infromation,64\n",
      "Gathered atuona's infromation,65\n",
      "Gathered maksatikha's infromation,66\n",
      "Gathered barrow's infromation,67\n",
      "Gathered farrukhnagar's infromation,68\n",
      "Gathered lompoc's infromation,69\n",
      "Gathered bethel's infromation,70\n",
      "Gathered georgetown's infromation,71\n",
      "Gathered bredasdorp's infromation,72\n",
      "Gathered busselton's infromation,73\n",
      "Gathered tuktoyaktuk's infromation,74\n",
      "Gathered eureka's infromation,75\n",
      "Gathered mar del plata's infromation,76\n",
      "Gathered sala's infromation,77\n",
      "Could not find illoqqortoormiut's information,78\n",
      "Gathered puerto ayora's infromation,79\n",
      "Gathered lata's infromation,80\n",
      "Gathered kailua's infromation,81\n",
      "Gathered bengkulu's infromation,82\n",
      "Gathered meulaboh's infromation,83\n",
      "Gathered katsuura's infromation,84\n",
      "Gathered hamilton's infromation,85\n",
      "Gathered faya's infromation,86\n",
      "Could not find ozgon's information,87\n",
      "Gathered chokurdakh's infromation,88\n",
      "Gathered harper's infromation,89\n",
      "Could not find grand river south east's information,90\n",
      "Gathered nabire's infromation,91\n",
      "Gathered barakpur's infromation,92\n",
      "Gathered mataura's infromation,93\n",
      "Gathered kaitangata's infromation,94\n",
      "Gathered airai's infromation,95\n",
      "Gathered mandera's infromation,96\n",
      "Gathered rundu's infromation,97\n",
      "Gathered guerrero negro's infromation,98\n",
      "Gathered den helder's infromation,99\n",
      "Maximum API call limit reached, waiting 60 seconds\n",
      "Could not find attawapiskat's information,100\n",
      "Gathered dingle's infromation,101\n",
      "Gathered srednekolymsk's infromation,102\n",
      "Gathered sisimiut's infromation,103\n",
      "Gathered mwinilunga's infromation,104\n",
      "Gathered murbad's infromation,105\n",
      "Gathered olinda's infromation,106\n",
      "Gathered komsomolskiy's infromation,107\n",
      "Gathered avera's infromation,108\n",
      "Gathered bambous virieux's infromation,109\n",
      "Gathered cidreira's infromation,110\n",
      "Gathered hobart's infromation,111\n",
      "Gathered saveh's infromation,112\n",
      "Could not find lolua's information,113\n",
      "Gathered te anau's infromation,114\n",
      "Gathered mayo's infromation,115\n",
      "Gathered gimli's infromation,116\n",
      "Gathered northam's infromation,117\n",
      "Gathered santa luzia's infromation,118\n",
      "Gathered belyy yar's infromation,119\n",
      "Gathered hovd's infromation,120\n",
      "Gathered rawson's infromation,121\n",
      "Could not find taolanaro's information,122\n",
      "Gathered kapaa's infromation,123\n",
      "Gathered edea's infromation,124\n",
      "Gathered aykhal's infromation,125\n",
      "Gathered saldanha's infromation,126\n",
      "Gathered severo-kurilsk's infromation,127\n",
      "Gathered san ramon's infromation,128\n",
      "Could not find samusu's information,129\n",
      "Gathered saint george's infromation,130\n",
      "Could not find burica's information,131\n",
      "Gathered madimba's infromation,132\n",
      "Gathered manama's infromation,133\n",
      "Gathered chapais's infromation,134\n",
      "Could not find tumannyy's information,135\n",
      "Gathered san lorenzo's infromation,136\n",
      "Gathered hay river's infromation,137\n",
      "Gathered strezhevoy's infromation,138\n",
      "Gathered butaritari's infromation,139\n",
      "Gathered popova's infromation,140\n",
      "Gathered mahebourg's infromation,141\n",
      "Could not find saleaula's information,142\n",
      "Could not find hebertville's information,143\n",
      "Gathered flin flon's infromation,144\n",
      "Gathered thessalon's infromation,145\n",
      "Gathered pangnirtung's infromation,146\n",
      "Gathered qaqortoq's infromation,147\n",
      "Gathered remedios's infromation,148\n",
      "Gathered saint-pierre's infromation,149\n",
      "Maximum API call limit reached, waiting 60 seconds\n",
      "Gathered basoko's infromation,150\n",
      "Gathered poum's infromation,151\n",
      "Gathered svetlogorsk's infromation,152\n",
      "Gathered general roca's infromation,153\n",
      "Gathered college's infromation,154\n",
      "Gathered kavieng's infromation,155\n",
      "Gathered mount gambier's infromation,156\n",
      "Gathered prince rupert's infromation,157\n",
      "Gathered beckley's infromation,158\n",
      "Gathered port-cartier's infromation,159\n",
      "Gathered caconda's infromation,160\n",
      "Gathered matara's infromation,161\n",
      "Gathered alekseyevsk's infromation,162\n",
      "Gathered miri's infromation,163\n",
      "Gathered iqaluit's infromation,164\n",
      "Gathered san patricio's infromation,165\n",
      "Gathered saint-augustin's infromation,166\n",
      "Gathered kulotino's infromation,167\n",
      "Gathered kudahuvadhoo's infromation,168\n",
      "Gathered pisco's infromation,169\n",
      "Gathered hasaki's infromation,170\n",
      "Gathered sistranda's infromation,171\n",
      "Gathered chiautla's infromation,172\n",
      "Gathered yumen's infromation,173\n",
      "Gathered kodiak's infromation,174\n",
      "Gathered bereznik's infromation,175\n",
      "Gathered inhambane's infromation,176\n",
      "Gathered sorong's infromation,177\n",
      "Could not find sentyabrskiy's information,178\n",
      "Could not find amderma's information,179\n",
      "Gathered sampit's infromation,180\n",
      "Gathered spokane's infromation,181\n",
      "Could not find urfa's information,182\n",
      "Gathered khasan's infromation,183\n",
      "Gathered toro's infromation,184\n",
      "Gathered singaparna's infromation,185\n",
      "Gathered lichinga's infromation,186\n",
      "Gathered iskateley's infromation,187\n",
      "Gathered ranong's infromation,188\n",
      "Gathered jishou's infromation,189\n",
      "Gathered thompson's infromation,190\n",
      "Gathered redmond's infromation,191\n",
      "Gathered ivdel's infromation,192\n",
      "Gathered dudinka's infromation,193\n",
      "Gathered khatanga's infromation,194\n",
      "Gathered kartaly's infromation,195\n",
      "Gathered lasa's infromation,196\n",
      "Gathered manokwari's infromation,197\n",
      "Gathered torbay's infromation,198\n",
      "Gathered shahr-e babak's infromation,199\n",
      "Maximum API call limit reached, waiting 60 seconds\n",
      "Gathered rio tercero's infromation,200\n",
      "Gathered moose factory's infromation,201\n",
      "Gathered dikson's infromation,202\n",
      "Gathered panormos's infromation,203\n",
      "Gathered faanui's infromation,204\n",
      "Gathered comodoro rivadavia's infromation,205\n",
      "Gathered adrar's infromation,206\n",
      "Gathered khovu-aksy's infromation,207\n",
      "Could not find gazni's information,208\n",
      "Gathered nuevo ideal's infromation,209\n",
      "Gathered vieques's infromation,210\n",
      "Gathered havoysund's infromation,211\n",
      "Gathered cerrito's infromation,212\n",
      "Gathered ancud's infromation,213\n",
      "Could not find fianga's information,214\n",
      "Gathered galbshtadt's infromation,215\n",
      "Gathered talnakh's infromation,216\n",
      "Gathered mukhen's infromation,217\n",
      "Gathered caravelas's infromation,218\n",
      "Gathered ongole's infromation,219\n",
      "Gathered gerash's infromation,220\n",
      "Gathered wenling's infromation,221\n",
      "Gathered rio gallegos's infromation,222\n",
      "Gathered aklavik's infromation,223\n",
      "Gathered port elizabeth's infromation,224\n",
      "Could not find tsihombe's information,225\n",
      "Gathered tagusao's infromation,226\n",
      "Gathered victoria's infromation,227\n",
      "Gathered tilichiki's infromation,228\n",
      "Gathered wangqing's infromation,229\n",
      "Gathered abu kamal's infromation,230\n",
      "Gathered maneadero's infromation,231\n",
      "Gathered lebu's infromation,232\n",
      "Gathered ouango's infromation,233\n",
      "Gathered muyezerskiy's infromation,234\n",
      "Gathered lawton's infromation,235\n",
      "Gathered gornyak's infromation,236\n",
      "Gathered gidam's infromation,237\n",
      "Could not find nizhneyansk's information,238\n",
      "Gathered provideniya's infromation,239\n",
      "Gathered majene's infromation,240\n",
      "Gathered san jose de guanipa's infromation,241\n",
      "Gathered diamantino's infromation,242\n",
      "Gathered dong hoi's infromation,243\n",
      "Gathered beira's infromation,244\n",
      "Gathered ahipara's infromation,245\n",
      "Gathered quelimane's infromation,246\n",
      "Gathered charters towers's infromation,247\n",
      "Gathered yashan's infromation,248\n",
      "Gathered bac lieu's infromation,249\n",
      "Maximum API call limit reached, waiting 60 seconds\n",
      "Gathered clermont's infromation,250\n",
      "Gathered gat's infromation,251\n",
      "Gathered jamestown's infromation,252\n",
      "Gathered asfi's infromation,253\n",
      "Gathered coquimbo's infromation,254\n",
      "Gathered nome's infromation,255\n",
      "Gathered klaksvik's infromation,256\n",
      "Gathered anadyr's infromation,257\n",
      "Gathered bria's infromation,258\n",
      "Gathered zunyi's infromation,259\n",
      "Gathered nacala's infromation,260\n",
      "Gathered port hawkesbury's infromation,261\n",
      "Gathered banda aceh's infromation,262\n",
      "Gathered bonavista's infromation,263\n",
      "Gathered thunder bay's infromation,264\n",
      "Gathered panuco's infromation,265\n",
      "Gathered jaguarari's infromation,266\n",
      "Gathered olga's infromation,267\n",
      "Gathered los llanos de aridane's infromation,268\n",
      "Gathered carutapera's infromation,269\n",
      "Gathered ilulissat's infromation,270\n",
      "Gathered shingu's infromation,271\n",
      "Gathered talaya's infromation,272\n",
      "Gathered zapolyarnyy's infromation,273\n",
      "Gathered kirakira's infromation,274\n",
      "Gathered bathsheba's infromation,275\n",
      "Gathered isangel's infromation,276\n",
      "Gathered sur's infromation,277\n",
      "Gathered muros's infromation,278\n",
      "Gathered intipuca's infromation,279\n",
      "Gathered road town's infromation,280\n",
      "Gathered surgut's infromation,281\n",
      "Gathered nkoteng's infromation,282\n",
      "Gathered vrangel's infromation,283\n",
      "Gathered lavrentiya's infromation,284\n",
      "Gathered palmas bellas's infromation,285\n",
      "Gathered pasni's infromation,286\n",
      "Gathered atambua's infromation,287\n",
      "Gathered husavik's infromation,288\n",
      "Gathered puerto quijarro's infromation,289\n",
      "Gathered hanzhong's infromation,290\n",
      "Gathered madison's infromation,291\n",
      "Gathered xining's infromation,292\n",
      "Gathered alyangula's infromation,293\n",
      "Gathered river falls's infromation,294\n",
      "Gathered lima's infromation,295\n",
      "Gathered hammerfest's infromation,296\n",
      "Could not find xadani's information,297\n",
      "Could not find talawdi's information,298\n",
      "Gathered jambi's infromation,299\n",
      "Maximum API call limit reached, waiting 60 seconds\n",
      "Gathered hami's infromation,300\n",
      "Gathered tikrit's infromation,301\n",
      "Gathered longyearbyen's infromation,302\n",
      "Gathered sokyryany's infromation,303\n",
      "Gathered san luis's infromation,304\n",
      "Gathered tiksi's infromation,305\n",
      "Gathered grindavik's infromation,306\n",
      "Gathered ribeira grande's infromation,307\n",
      "Gathered big spring's infromation,308\n",
      "Gathered kalispell's infromation,309\n",
      "Gathered isernia's infromation,310\n",
      "Gathered berlevag's infromation,311\n",
      "Gathered pandamatenga's infromation,312\n",
      "Gathered salalah's infromation,313\n",
      "Gathered binika's infromation,314\n",
      "Gathered ajdabiya's infromation,315\n",
      "Gathered raudeberg's infromation,316\n",
      "Gathered vila franca do campo's infromation,317\n",
      "Gathered muncie's infromation,318\n",
      "Gathered anacortes's infromation,319\n",
      "Could not find palabuhanratu's information,320\n",
      "Gathered oistins's infromation,321\n",
      "Gathered cabo san lucas's infromation,322\n",
      "Gathered vanimo's infromation,323\n",
      "Gathered bardiyah's infromation,324\n",
      "Gathered fortuna's infromation,325\n",
      "Gathered brownwood's infromation,326\n",
      "Could not find vaitupu's information,327\n",
      "Gathered labrea's infromation,328\n",
      "Gathered fochville's infromation,329\n",
      "Gathered buin's infromation,330\n",
      "Gathered southern pines's infromation,331\n",
      "Gathered mega's infromation,332\n",
      "Gathered mendi's infromation,333\n",
      "Gathered pipili's infromation,334\n",
      "Gathered caetes's infromation,335\n",
      "Gathered diu's infromation,336\n",
      "Gathered flinders's infromation,337\n",
      "Gathered russkaya polyana's infromation,338\n",
      "Gathered camacari's infromation,339\n",
      "Gathered richards bay's infromation,340\n",
      "Could not find mogochin's information,341\n",
      "Gathered uyuni's infromation,342\n",
      "Gathered hirara's infromation,343\n",
      "Gathered wahpeton's infromation,344\n",
      "Gathered aksu's infromation,345\n",
      "Gathered kruisfontein's infromation,346\n",
      "Gathered ketchikan's infromation,347\n",
      "Gathered shimoda's infromation,348\n",
      "Gathered saint-paul's infromation,349\n",
      "Maximum API call limit reached, waiting 60 seconds\n",
      "Gathered warwick's infromation,350\n",
      "Gathered deputatskiy's infromation,351\n",
      "Gathered saint-philippe's infromation,352\n",
      "Gathered saskylakh's infromation,353\n",
      "Gathered leningradskiy's infromation,354\n",
      "Gathered kaeo's infromation,355\n",
      "Gathered namatanai's infromation,356\n",
      "Gathered port-gentil's infromation,357\n",
      "Gathered mikhaylovka's infromation,358\n",
      "Gathered san isidro's infromation,359\n",
      "Gathered jiazi's infromation,360\n",
      "Gathered turukhansk's infromation,361\n",
      "Could not find brahmapuri's information,362\n",
      "Gathered waipawa's infromation,363\n",
      "Gathered dorchester's infromation,364\n",
      "Gathered golden's infromation,365\n",
      "Gathered padang's infromation,366\n",
      "Gathered andenes's infromation,367\n",
      "Gathered las cruces's infromation,368\n",
      "Could not find okandja's information,369\n",
      "Gathered vangaindrano's infromation,370\n",
      "Gathered dunedin's infromation,371\n",
      "Gathered borogontsy's infromation,372\n",
      "Gathered la trinidad's infromation,373\n",
      "Gathered onalaska's infromation,374\n",
      "Could not find ngukurr's information,375\n",
      "Gathered sumbe's infromation,376\n",
      "Gathered fayetteville's infromation,377\n",
      "Gathered vestmannaeyjar's infromation,378\n",
      "Gathered peniche's infromation,379\n",
      "Gathered enterprise's infromation,380\n",
      "Gathered vila velha's infromation,381\n",
      "Gathered laguna's infromation,382\n",
      "Gathered chicama's infromation,383\n",
      "Gathered ndungu's infromation,384\n",
      "Gathered karpogory's infromation,385\n",
      "Gathered amot's infromation,386\n",
      "Gathered youkounkoun's infromation,387\n",
      "Gathered beneditinos's infromation,388\n",
      "Gathered petropavlovsk-kamchatskiy's infromation,389\n",
      "Gathered san cristobal's infromation,390\n",
      "Gathered touros's infromation,391\n",
      "Gathered beachwood's infromation,392\n",
      "Gathered iranshahr's infromation,393\n",
      "Gathered north bend's infromation,394\n",
      "Could not find mangile's information,395\n",
      "Gathered sitka's infromation,396\n",
      "Could not find dibaya's information,397\n",
      "Gathered buala's infromation,398\n",
      "Gathered ponta delgada's infromation,399\n",
      "Maximum API call limit reached, waiting 60 seconds\n",
      "Could not find nguiu's information,400\n",
      "Gathered ambilobe's infromation,401\n",
      "Gathered yendi's infromation,402\n",
      "Gathered olafsvik's infromation,403\n",
      "Gathered novo aripuana's infromation,404\n",
      "Gathered beringovskiy's infromation,405\n",
      "Gathered saryagash's infromation,406\n",
      "Gathered fallon's infromation,407\n",
      "Gathered saint-georges's infromation,408\n",
      "Could not find skalistyy's information,409\n",
      "Gathered katherine's infromation,410\n",
      "Gathered ostrovnoy's infromation,411\n",
      "Could not find rungata's information,412\n",
      "Gathered santa cruz's infromation,413\n",
      "Gathered piranhas's infromation,414\n",
      "Could not find ha's information,415\n",
      "Gathered port macquarie's infromation,416\n",
      "Gathered vao's infromation,417\n",
      "Gathered saginaw's infromation,418\n",
      "Gathered portland's infromation,419\n",
      "Gathered sharan's infromation,420\n",
      "Gathered itacoatiara's infromation,421\n",
      "Gathered koulikoro's infromation,422\n",
      "Gathered maarianhamina's infromation,423\n",
      "Gathered abha's infromation,424\n",
      "Gathered mopipi's infromation,425\n",
      "Gathered porto novo's infromation,426\n",
      "Gathered hambantota's infromation,427\n",
      "Gathered tuzha's infromation,428\n",
      "Gathered karratha's infromation,429\n",
      "Gathered gamba's infromation,430\n",
      "Gathered bitung's infromation,431\n",
      "Gathered atar's infromation,432\n",
      "Gathered eyrarbakki's infromation,433\n",
      "Gathered kostomuksha's infromation,434\n",
      "Gathered omboue's infromation,435\n",
      "Gathered ushtobe's infromation,436\n",
      "Gathered bahia blanca's infromation,437\n",
      "Gathered sao filipe's infromation,438\n",
      "Gathered machico's infromation,439\n",
      "Could not find wulanhaote's information,440\n",
      "Gathered salinopolis's infromation,441\n",
      "Gathered angoram's infromation,442\n",
      "Gathered havelock's infromation,443\n",
      "Could not find tidore's information,444\n",
      "Gathered chunhuhub's infromation,445\n",
      "Gathered sola's infromation,446\n",
      "Could not find braslav's information,447\n",
      "Gathered mount vernon's infromation,448\n",
      "Gathered koroni's infromation,449\n",
      "Maximum API call limit reached, waiting 60 seconds\n",
      "Gathered tuatapere's infromation,450\n",
      "Gathered zhezkazgan's infromation,451\n",
      "Gathered presidencia roque saenz pena's infromation,452\n",
      "Could not find tubruq's information,453\n",
      "Gathered jacmel's infromation,454\n",
      "Gathered souillac's infromation,455\n",
      "Gathered verkhoyansk's infromation,456\n",
      "Gathered clyde river's infromation,457\n",
      "Gathered muriwai beach's infromation,458\n",
      "Gathered mayumba's infromation,459\n",
      "Gathered zafarabad's infromation,460\n",
      "Gathered port hardy's infromation,461\n",
      "Could not find meyungs's information,462\n",
      "Gathered covington's infromation,463\n",
      "Gathered miranda's infromation,464\n",
      "Could not find zhetybay's information,465\n",
      "Gathered odweyne's infromation,466\n",
      "Gathered jhalida's infromation,467\n",
      "Gathered mananjary's infromation,468\n",
      "Gathered smolenskaya's infromation,469\n",
      "Gathered haysville's infromation,470\n",
      "Gathered rocha's infromation,471\n",
      "Gathered rozkishne's infromation,472\n",
      "Gathered akdagmadeni's infromation,473\n",
      "Gathered inongo's infromation,474\n",
      "Gathered nichinan's infromation,475\n",
      "Gathered svobodnyy's infromation,476\n",
      "Gathered lamu's infromation,477\n",
      "Gathered makakilo city's infromation,478\n",
      "Gathered emerald's infromation,479\n",
      "Gathered praya's infromation,480\n",
      "Gathered maragogi's infromation,481\n",
      "Gathered umm lajj's infromation,482\n",
      "Gathered yining's infromation,483\n",
      "Gathered belogorsk's infromation,484\n",
      "Gathered innoshima's infromation,485\n",
      "Gathered roebourne's infromation,486\n",
      "Gathered salvador's infromation,487\n",
      "Gathered ardabil's infromation,488\n",
      "Gathered hobyo's infromation,489\n",
      "Gathered muzhi's infromation,490\n",
      "Gathered marsa matruh's infromation,491\n",
      "Gathered kafanchan's infromation,492\n",
      "Gathered ust-tsilma's infromation,493\n",
      "Gathered ampanihy's infromation,494\n",
      "Gathered novobelokatay's infromation,495\n",
      "Gathered aktash's infromation,496\n",
      "Gathered kholodnyy's infromation,497\n",
      "Gathered urumqi's infromation,498\n",
      "Gathered kidal's infromation,499\n",
      "Maximum API call limit reached, waiting 60 seconds\n",
      "Could not find dzhusaly's information,500\n",
      "Gathered monrovia's infromation,501\n",
      "Gathered dongsheng's infromation,502\n",
      "Gathered stephenville crossing's infromation,503\n",
      "Gathered kahului's infromation,504\n",
      "Gathered mongagua's infromation,505\n",
      "Gathered chauk's infromation,506\n",
      "Gathered kargil's infromation,507\n",
      "Gathered rudbar's infromation,508\n",
      "Gathered villa bruzual's infromation,509\n",
      "Gathered synya's infromation,510\n",
      "Gathered marzuq's infromation,511\n",
      "Gathered ostrovskoye's infromation,512\n",
      "Gathered ashington's infromation,513\n",
      "Gathered acapulco's infromation,514\n",
      "Gathered ati's infromation,515\n",
      "Gathered kavaratti's infromation,516\n",
      "Gathered sao joao da barra's infromation,517\n",
      "Could not find babanusah's information,518\n",
      "Gathered ostersund's infromation,519\n",
      "Gathered mezokovacshaza's infromation,520\n",
      "Gathered verkhnyaya inta's infromation,521\n",
      "Gathered ayr's infromation,522\n",
      "Gathered pochinki's infromation,523\n",
      "Gathered eirunepe's infromation,524\n",
      "Gathered lander's infromation,525\n",
      "Gathered puerto madryn's infromation,526\n",
      "Gathered lorengau's infromation,527\n",
      "Gathered navahrudak's infromation,528\n",
      "Gathered kushima's infromation,529\n",
      "Gathered daru's infromation,530\n",
      "Could not find artyk's information,531\n",
      "Gathered polyarnyy's infromation,532\n",
      "Gathered the valley's infromation,533\n",
      "Gathered pingliang's infromation,534\n",
      "Gathered chambersburg's infromation,535\n",
      "Gathered coruripe's infromation,536\n",
      "Gathered assiniboia's infromation,537\n",
      "Gathered dwarka's infromation,538\n",
      "Gathered dawei's infromation,539\n",
      "Gathered kirensk's infromation,540\n",
      "Gathered mecca's infromation,541\n",
      "Gathered wuda's infromation,542\n",
      "Gathered eyl's infromation,543\n",
      "Gathered sabha's infromation,544\n",
      "Gathered kamina's infromation,545\n",
      "Gathered kurumkan's infromation,546\n",
      "Gathered aasiaat's infromation,547\n",
      "Gathered narsaq's infromation,548\n",
      "Could not find skagastrond's information,549\n",
      "Maximum API call limit reached, waiting 60 seconds\n",
      "Gathered necochea's infromation,550\n",
      "Could not find karaul's information,551\n",
      "Gathered ostrowiec swietokrzyski's infromation,552\n",
      "Gathered lichtenfels's infromation,553\n",
      "Gathered ust-kulom's infromation,554\n",
      "Gathered chiang khong's infromation,555\n",
      "Gathered requena's infromation,556\n",
      "Gathered autazes's infromation,557\n",
      "Gathered panguna's infromation,558\n",
      "Could not find louisbourg's information,559\n",
      "Gathered kamenka's infromation,560\n",
      "Gathered quata's infromation,561\n",
      "Gathered yarmouth's infromation,562\n",
      "Gathered clinton's infromation,563\n",
      "Gathered point fortin's infromation,564\n",
      "Gathered diego de almagro's infromation,565\n",
      "Gathered guangyuan's infromation,566\n",
      "Gathered chumikan's infromation,567\n",
      "Gathered kysyl-syr's infromation,568\n",
      "Gathered launceston's infromation,569\n",
      "Gathered taoudenni's infromation,570\n",
      "Gathered colina's infromation,571\n",
      "Gathered zelenoborsk's infromation,572\n",
      "Gathered iracoubo's infromation,573\n",
      "Gathered keti bandar's infromation,574\n",
      "Could not find kamenskoye's information,575\n",
      "Gathered ca mau's infromation,576\n",
      "Gathered luderitz's infromation,577\n",
      "Gathered sobolevo's infromation,578\n",
      "Gathered rabo de peixe's infromation,579\n",
      "Gathered tianpeng's infromation,580\n",
      "Could not find hunza's information,581\n",
      "Gathered grand gaube's infromation,582\n",
      "Gathered benton harbor's infromation,583\n",
      "Gathered kerouane's infromation,584\n",
      "Gathered giroc's infromation,585\n",
      "Gathered alofi's infromation,586\n",
      "Gathered haines junction's infromation,587\n",
      "Gathered lazaro cardenas's infromation,588\n",
      "Gathered le port's infromation,589\n",
      "Gathered zhanakorgan's infromation,590\n",
      "Gathered nishihara's infromation,591\n",
      "Could not find bababe's information,592\n",
      "Gathered morondava's infromation,593\n",
      "Gathered wajima's infromation,594\n",
      "Gathered fukue's infromation,595\n",
      "Gathered katangli's infromation,596\n",
      "Gathered lenine's infromation,597\n",
      "Gathered kimbe's infromation,598\n",
      "Gathered sao miguel do araguaia's infromation,599\n",
      "Maximum API call limit reached, waiting 60 seconds\n",
      "Gathered etchoropo's infromation,600\n",
      "Gathered mount isa's infromation,601\n",
      "Gathered acarau's infromation,602\n",
      "Gathered tuyen quang's infromation,603\n",
      "Gathered goderich's infromation,604\n",
      "Gathered pimentel's infromation,605\n",
      "Gathered xai-xai's infromation,606\n",
      "Gathered port hedland's infromation,607\n",
      "Gathered lekoni's infromation,608\n",
      "Gathered ailigandi's infromation,609\n",
      "Gathered cabedelo's infromation,610\n",
      "Gathered bilma's infromation,611\n",
      "Gathered abadiania's infromation,612\n",
      "Could not find sumbawa's information,613\n",
      "Gathered purgstall's infromation,614\n",
      "Gathered brae's infromation,615\n",
      "Gathered tipperary's infromation,616\n",
      "Gathered bochov's infromation,617\n",
      "Gathered san quintin's infromation,618\n",
      "Gathered mundi's infromation,619\n",
      "Gathered stornoway's infromation,620\n",
      "Gathered verkhnyaya balkariya's infromation,621\n",
      "Gathered quattro castella's infromation,622\n",
      "Gathered maglajani's infromation,623\n",
      "Gathered smidovich's infromation,624\n",
      "Gathered rock springs's infromation,625\n",
      "Gathered glendive's infromation,626\n",
      "Gathered kharan's infromation,627\n",
      "Gathered borba's infromation,628\n",
      "Gathered tingo maria's infromation,629\n",
      "Gathered nemuro's infromation,630\n",
      "Gathered axim's infromation,631\n",
      "Gathered jedrzejow's infromation,632\n",
      "Gathered rio tinto's infromation,633\n",
      "All Done!\n"
     ]
    }
   ],
   "source": [
    "citi_lst = []\n",
    "\n",
    "print(\"Begin API Call to OpenWeather Database \")\n",
    "print(\"--------------------------------------\")\n",
    "\n",
    "for i,city in enumerate(cities):\n",
    "    \n",
    "   \n",
    "    \n",
    "    if (i%50 == 0) & (i >= 50):\n",
    "        print('Maximum API call limit reached, waiting 60 seconds')\n",
    "        time.sleep(60)\n",
    "        \n",
    "    \n",
    "    city_url = url_wkey + '&q=' + city.replace(\" \",\"+\")\n",
    "    city_api_call = requests.get(city_url).json()\n",
    "   \n",
    "\n",
    "    \n",
    "    \n",
    "    try:\n",
    "        \n",
    "        city_country = city_api_call['sys']['country']\n",
    "        city_lat = city_api_call['coord']['lat']\n",
    "        city_lng = city_api_call['coord']['lon']\n",
    "        city_max_temp = city_api_call['main']['temp_max']\n",
    "        city_humidity = city_api_call['main']['humidity']\n",
    "        city_clouds = city_api_call['clouds']['all']\n",
    "        city_wind = city_api_call['wind']['speed']\n",
    "        city_weather = city_api_call['weather'][0]['description']\n",
    "        \n",
    "        \n",
    "        \n",
    "        citi_lst.append({ \"City\": city.title(),\n",
    "                          \"Country\": city_country,\n",
    "                          \"Lat\": city_lat,\n",
    "                          \"Lng\": city_lng,\n",
    "                          \"Max Temp\": city_max_temp,\n",
    "                          \"Humidity\": city_humidity,\n",
    "                          \"Cloudiness\": city_clouds,\n",
    "                          \"Wind Speed\": city_wind,\n",
    "                          \"Current Description\": city_weather})\n",
    "        \n",
    "        print(f\"Gathered {city}'s infromation,{i}\")\n",
    "        \n",
    "    except:\n",
    "        \n",
    "        print(f\"Could not find {city}'s information,{i}\")\n",
    "    \n",
    "    \n",
    "print('All Done!')\n",
    "        "
   ]
  },
  {
   "cell_type": "code",
   "execution_count": 47,
   "metadata": {},
   "outputs": [
    {
     "data": {
      "text/plain": [
       "581"
      ]
     },
     "execution_count": 47,
     "metadata": {},
     "output_type": "execute_result"
    }
   ],
   "source": [
    "len(citi_lst)"
   ]
  },
  {
   "cell_type": "markdown",
   "metadata": {},
   "source": [
    "### Convert Raw Data to DataFrame\n",
    "* Export the city data into a .csv.\n",
    "* Display the DataFrame"
   ]
  },
  {
   "cell_type": "code",
   "execution_count": 48,
   "metadata": {},
   "outputs": [
    {
     "data": {
      "text/html": [
       "<div>\n",
       "<style scoped>\n",
       "    .dataframe tbody tr th:only-of-type {\n",
       "        vertical-align: middle;\n",
       "    }\n",
       "\n",
       "    .dataframe tbody tr th {\n",
       "        vertical-align: top;\n",
       "    }\n",
       "\n",
       "    .dataframe thead th {\n",
       "        text-align: right;\n",
       "    }\n",
       "</style>\n",
       "<table border=\"1\" class=\"dataframe\">\n",
       "  <thead>\n",
       "    <tr style=\"text-align: right;\">\n",
       "      <th></th>\n",
       "      <th>City</th>\n",
       "      <th>Country</th>\n",
       "      <th>Lat</th>\n",
       "      <th>Lng</th>\n",
       "      <th>Max Temp</th>\n",
       "      <th>Humidity</th>\n",
       "      <th>Cloudiness</th>\n",
       "      <th>Wind Speed</th>\n",
       "      <th>Current Description</th>\n",
       "    </tr>\n",
       "  </thead>\n",
       "  <tbody>\n",
       "    <tr>\n",
       "      <th>0</th>\n",
       "      <td>Hermanus</td>\n",
       "      <td>ZA</td>\n",
       "      <td>-34.4187</td>\n",
       "      <td>19.2345</td>\n",
       "      <td>70.81</td>\n",
       "      <td>56</td>\n",
       "      <td>54</td>\n",
       "      <td>2.57</td>\n",
       "      <td>broken clouds</td>\n",
       "    </tr>\n",
       "    <tr>\n",
       "      <th>1</th>\n",
       "      <td>Loa Janan</td>\n",
       "      <td>ID</td>\n",
       "      <td>-0.5830</td>\n",
       "      <td>117.0950</td>\n",
       "      <td>75.70</td>\n",
       "      <td>96</td>\n",
       "      <td>97</td>\n",
       "      <td>0.16</td>\n",
       "      <td>overcast clouds</td>\n",
       "    </tr>\n",
       "    <tr>\n",
       "      <th>2</th>\n",
       "      <td>Yellowknife</td>\n",
       "      <td>CA</td>\n",
       "      <td>62.4560</td>\n",
       "      <td>-114.3525</td>\n",
       "      <td>36.12</td>\n",
       "      <td>51</td>\n",
       "      <td>20</td>\n",
       "      <td>10.36</td>\n",
       "      <td>few clouds</td>\n",
       "    </tr>\n",
       "    <tr>\n",
       "      <th>3</th>\n",
       "      <td>Gilgit</td>\n",
       "      <td>PK</td>\n",
       "      <td>35.9221</td>\n",
       "      <td>74.3087</td>\n",
       "      <td>75.70</td>\n",
       "      <td>41</td>\n",
       "      <td>96</td>\n",
       "      <td>5.21</td>\n",
       "      <td>overcast clouds</td>\n",
       "    </tr>\n",
       "    <tr>\n",
       "      <th>4</th>\n",
       "      <td>Esperance</td>\n",
       "      <td>AU</td>\n",
       "      <td>-33.8667</td>\n",
       "      <td>121.9000</td>\n",
       "      <td>63.10</td>\n",
       "      <td>64</td>\n",
       "      <td>100</td>\n",
       "      <td>14.38</td>\n",
       "      <td>overcast clouds</td>\n",
       "    </tr>\n",
       "    <tr>\n",
       "      <th>5</th>\n",
       "      <td>Norman Wells</td>\n",
       "      <td>CA</td>\n",
       "      <td>65.2820</td>\n",
       "      <td>-126.8329</td>\n",
       "      <td>48.24</td>\n",
       "      <td>43</td>\n",
       "      <td>20</td>\n",
       "      <td>12.66</td>\n",
       "      <td>few clouds</td>\n",
       "    </tr>\n",
       "    <tr>\n",
       "      <th>6</th>\n",
       "      <td>Cape Town</td>\n",
       "      <td>ZA</td>\n",
       "      <td>-33.9258</td>\n",
       "      <td>18.4232</td>\n",
       "      <td>74.10</td>\n",
       "      <td>53</td>\n",
       "      <td>64</td>\n",
       "      <td>1.99</td>\n",
       "      <td>broken clouds</td>\n",
       "    </tr>\n",
       "    <tr>\n",
       "      <th>7</th>\n",
       "      <td>Tevaitoa</td>\n",
       "      <td>PF</td>\n",
       "      <td>-16.7833</td>\n",
       "      <td>-151.5000</td>\n",
       "      <td>80.37</td>\n",
       "      <td>75</td>\n",
       "      <td>98</td>\n",
       "      <td>8.25</td>\n",
       "      <td>light rain</td>\n",
       "    </tr>\n",
       "    <tr>\n",
       "      <th>8</th>\n",
       "      <td>Tasiilaq</td>\n",
       "      <td>GL</td>\n",
       "      <td>65.6145</td>\n",
       "      <td>-37.6368</td>\n",
       "      <td>28.54</td>\n",
       "      <td>70</td>\n",
       "      <td>100</td>\n",
       "      <td>2.84</td>\n",
       "      <td>overcast clouds</td>\n",
       "    </tr>\n",
       "    <tr>\n",
       "      <th>9</th>\n",
       "      <td>Lebedinyy</td>\n",
       "      <td>RU</td>\n",
       "      <td>58.5167</td>\n",
       "      <td>125.5167</td>\n",
       "      <td>14.52</td>\n",
       "      <td>94</td>\n",
       "      <td>94</td>\n",
       "      <td>4.07</td>\n",
       "      <td>overcast clouds</td>\n",
       "    </tr>\n",
       "  </tbody>\n",
       "</table>\n",
       "</div>"
      ],
      "text/plain": [
       "           City Country      Lat       Lng  Max Temp  Humidity  Cloudiness  \\\n",
       "0      Hermanus      ZA -34.4187   19.2345     70.81        56          54   \n",
       "1     Loa Janan      ID  -0.5830  117.0950     75.70        96          97   \n",
       "2   Yellowknife      CA  62.4560 -114.3525     36.12        51          20   \n",
       "3        Gilgit      PK  35.9221   74.3087     75.70        41          96   \n",
       "4     Esperance      AU -33.8667  121.9000     63.10        64         100   \n",
       "5  Norman Wells      CA  65.2820 -126.8329     48.24        43          20   \n",
       "6     Cape Town      ZA -33.9258   18.4232     74.10        53          64   \n",
       "7      Tevaitoa      PF -16.7833 -151.5000     80.37        75          98   \n",
       "8      Tasiilaq      GL  65.6145  -37.6368     28.54        70         100   \n",
       "9     Lebedinyy      RU  58.5167  125.5167     14.52        94          94   \n",
       "\n",
       "   Wind Speed Current Description  \n",
       "0        2.57       broken clouds  \n",
       "1        0.16     overcast clouds  \n",
       "2       10.36          few clouds  \n",
       "3        5.21     overcast clouds  \n",
       "4       14.38     overcast clouds  \n",
       "5       12.66          few clouds  \n",
       "6        1.99       broken clouds  \n",
       "7        8.25          light rain  \n",
       "8        2.84     overcast clouds  \n",
       "9        4.07     overcast clouds  "
      ]
     },
     "execution_count": 48,
     "metadata": {},
     "output_type": "execute_result"
    }
   ],
   "source": [
    "wthr_data_df=pd.DataFrame(citi_lst)\n",
    "wthr_data_df.head(10)"
   ]
  },
  {
   "cell_type": "code",
   "execution_count": 53,
   "metadata": {},
   "outputs": [],
   "source": [
    "wthr_data_df.to_csv('WeatherPy_Database.csv')"
   ]
  },
  {
   "cell_type": "markdown",
   "metadata": {},
   "source": [
    "## Inspect the data and remove the cities where the humidity > 100%.\n",
    "----\n",
    "Skip this step if there are no cities that have humidity > 100%. "
   ]
  },
  {
   "cell_type": "code",
   "execution_count": 54,
   "metadata": {},
   "outputs": [
    {
     "data": {
      "text/html": [
       "<div>\n",
       "<style scoped>\n",
       "    .dataframe tbody tr th:only-of-type {\n",
       "        vertical-align: middle;\n",
       "    }\n",
       "\n",
       "    .dataframe tbody tr th {\n",
       "        vertical-align: top;\n",
       "    }\n",
       "\n",
       "    .dataframe thead th {\n",
       "        text-align: right;\n",
       "    }\n",
       "</style>\n",
       "<table border=\"1\" class=\"dataframe\">\n",
       "  <thead>\n",
       "    <tr style=\"text-align: right;\">\n",
       "      <th></th>\n",
       "      <th>Lat</th>\n",
       "      <th>Lng</th>\n",
       "      <th>Max Temp</th>\n",
       "      <th>Humidity</th>\n",
       "      <th>Cloudiness</th>\n",
       "      <th>Wind Speed</th>\n",
       "    </tr>\n",
       "  </thead>\n",
       "  <tbody>\n",
       "    <tr>\n",
       "      <th>count</th>\n",
       "      <td>581.000000</td>\n",
       "      <td>581.000000</td>\n",
       "      <td>581.000000</td>\n",
       "      <td>581.000000</td>\n",
       "      <td>581.000000</td>\n",
       "      <td>581.000000</td>\n",
       "    </tr>\n",
       "    <tr>\n",
       "      <th>mean</th>\n",
       "      <td>21.245431</td>\n",
       "      <td>16.788846</td>\n",
       "      <td>62.741050</td>\n",
       "      <td>68.418244</td>\n",
       "      <td>60.430293</td>\n",
       "      <td>8.231549</td>\n",
       "    </tr>\n",
       "    <tr>\n",
       "      <th>std</th>\n",
       "      <td>32.677408</td>\n",
       "      <td>89.376496</td>\n",
       "      <td>20.919715</td>\n",
       "      <td>21.787823</td>\n",
       "      <td>37.793642</td>\n",
       "      <td>5.578630</td>\n",
       "    </tr>\n",
       "    <tr>\n",
       "      <th>min</th>\n",
       "      <td>-54.800000</td>\n",
       "      <td>-175.200000</td>\n",
       "      <td>0.680000</td>\n",
       "      <td>6.000000</td>\n",
       "      <td>0.000000</td>\n",
       "      <td>0.000000</td>\n",
       "    </tr>\n",
       "    <tr>\n",
       "      <th>25%</th>\n",
       "      <td>-5.198900</td>\n",
       "      <td>-63.057800</td>\n",
       "      <td>50.050000</td>\n",
       "      <td>56.000000</td>\n",
       "      <td>23.000000</td>\n",
       "      <td>4.230000</td>\n",
       "    </tr>\n",
       "    <tr>\n",
       "      <th>50%</th>\n",
       "      <td>26.184200</td>\n",
       "      <td>21.986300</td>\n",
       "      <td>66.020000</td>\n",
       "      <td>74.000000</td>\n",
       "      <td>74.000000</td>\n",
       "      <td>6.910000</td>\n",
       "    </tr>\n",
       "    <tr>\n",
       "      <th>75%</th>\n",
       "      <td>48.447500</td>\n",
       "      <td>92.750000</td>\n",
       "      <td>79.830000</td>\n",
       "      <td>84.000000</td>\n",
       "      <td>99.000000</td>\n",
       "      <td>10.380000</td>\n",
       "    </tr>\n",
       "    <tr>\n",
       "      <th>max</th>\n",
       "      <td>78.218600</td>\n",
       "      <td>179.316700</td>\n",
       "      <td>108.010000</td>\n",
       "      <td>100.000000</td>\n",
       "      <td>100.000000</td>\n",
       "      <td>31.070000</td>\n",
       "    </tr>\n",
       "  </tbody>\n",
       "</table>\n",
       "</div>"
      ],
      "text/plain": [
       "              Lat         Lng    Max Temp    Humidity  Cloudiness  Wind Speed\n",
       "count  581.000000  581.000000  581.000000  581.000000  581.000000  581.000000\n",
       "mean    21.245431   16.788846   62.741050   68.418244   60.430293    8.231549\n",
       "std     32.677408   89.376496   20.919715   21.787823   37.793642    5.578630\n",
       "min    -54.800000 -175.200000    0.680000    6.000000    0.000000    0.000000\n",
       "25%     -5.198900  -63.057800   50.050000   56.000000   23.000000    4.230000\n",
       "50%     26.184200   21.986300   66.020000   74.000000   74.000000    6.910000\n",
       "75%     48.447500   92.750000   79.830000   84.000000   99.000000   10.380000\n",
       "max     78.218600  179.316700  108.010000  100.000000  100.000000   31.070000"
      ]
     },
     "execution_count": 54,
     "metadata": {},
     "output_type": "execute_result"
    }
   ],
   "source": [
    "wthr_data_df.describe()"
   ]
  },
  {
   "cell_type": "markdown",
   "metadata": {},
   "source": [
    "## Plotting the Data\n",
    "* Use proper labeling of the plots using plot titles (including date of analysis) and axes labels.\n",
    "* Save the plotted figures as .pngs."
   ]
  },
  {
   "cell_type": "markdown",
   "metadata": {},
   "source": [
    "## Latitude vs. Temperature Plot"
   ]
  },
  {
   "cell_type": "code",
   "execution_count": 68,
   "metadata": {
    "scrolled": true
   },
   "outputs": [
    {
     "data": {
      "image/png": "[encoded data removed]",
      "text/plain": [
       "<Figure size 432x288 with 1 Axes>"
      ]
     },
     "metadata": {
      "needs_background": "light"
     },
     "output_type": "display_data"
    }
   ],
   "source": [
    "plt.scatter(wthr_data_df[\"Lat\"],wthr_data_df[\"Max Temp\"])\n",
    "plt.title(\"City Latitude vs Max Temperature\")\n",
    "plt.ylabel(\"Temperature (F) \")\n",
    "plt.xlabel(\"Latitude\")\n",
    "plt.grid(True)\n",
    "plt.xlim(-90,90)\n",
    "plt.savefig(\"Latitude_vs_MaxTemps.png\")\n",
    "plt.show()"
   ]
  },
  {
   "cell_type": "markdown",
   "metadata": {},
   "source": [
    "## Latitude vs. Humidity Plot"
   ]
  },
  {
   "cell_type": "code",
   "execution_count": 69,
   "metadata": {},
   "outputs": [
    {
     "data": {
      "image/png": "[encoded data removed]",
      "text/plain": [
       "<Figure size 432x288 with 1 Axes>"
      ]
     },
     "metadata": {
      "needs_background": "light"
     },
     "output_type": "display_data"
    }
   ],
   "source": [
    "plt.scatter(wthr_data_df[\"Lat\"],wthr_data_df[\"Humidity\"])\n",
    "plt.title(\"City Latitude vs Humidity\")\n",
    "plt.ylabel(\"Humidity\")\n",
    "plt.xlabel(\"City Latitudes\")\n",
    "plt.grid(True)\n",
    "plt.xlim(-90,90)\n",
    "plt.savefig(\"Latitude_vs_Humidity.png\")\n",
    "plt.show()"
   ]
  },
  {
   "cell_type": "markdown",
   "metadata": {},
   "source": [
    "## Latitude vs. Cloudiness Plot"
   ]
  },
  {
   "cell_type": "code",
   "execution_count": 70,
   "metadata": {},
   "outputs": [
    {
     "data": {
      "image/png": "[encoded data removed]",
      "text/plain": [
       "<Figure size 432x288 with 1 Axes>"
      ]
     },
     "metadata": {
      "needs_background": "light"
     },
     "output_type": "display_data"
    }
   ],
   "source": [
    "plt.scatter(wthr_data_df[\"Lat\"],wthr_data_df[\"Cloudiness\"])\n",
    "plt.title(\"City Latitude vs Cloudiness\")\n",
    "plt.ylabel(\"Cloudiness\")\n",
    "plt.xlabel(\"City Latitudes\")\n",
    "plt.grid(True)\n",
    "plt.xlim(-90,90)\n",
    "plt.savefig(\"Latitude_vs_Cloudiness.png\")\n",
    "plt.show()"
   ]
  },
  {
   "cell_type": "markdown",
   "metadata": {},
   "source": [
    "## Latitude vs. Wind Speed Plot"
   ]
  },
  {
   "cell_type": "code",
   "execution_count": 71,
   "metadata": {},
   "outputs": [
    {
     "data": {
      "image/png": "[encoded data removed]",
      "text/plain": [
       "<Figure size 432x288 with 1 Axes>"
      ]
     },
     "metadata": {
      "needs_background": "light"
     },
     "output_type": "display_data"
    }
   ],
   "source": [
    "plt.scatter(wthr_data_df[\"Lat\"],wthr_data_df[\"Wind Speed\"])\n",
    "plt.title(\"City Latitude vs Wind Speed\")\n",
    "plt.ylabel(\"Wind Speed\")\n",
    "plt.xlabel(\"City Latitudes\")\n",
    "plt.grid(True)\n",
    "plt.xlim(-90,90)\n",
    "plt.ylim(-2,40)\n",
    "plt.savefig(\"Latitude_vs_Wind_Speed.png\")\n",
    "plt.show()"
   ]
  },
  {
   "cell_type": "markdown",
   "metadata": {},
   "source": [
    "## Linear Regression"
   ]
  },
  {
   "cell_type": "code",
   "execution_count": 74,
   "metadata": {},
   "outputs": [
    {
     "data": {
      "text/html": [
       "<div>\n",
       "<style scoped>\n",
       "    .dataframe tbody tr th:only-of-type {\n",
       "        vertical-align: middle;\n",
       "    }\n",
       "\n",
       "    .dataframe tbody tr th {\n",
       "        vertical-align: top;\n",
       "    }\n",
       "\n",
       "    .dataframe thead th {\n",
       "        text-align: right;\n",
       "    }\n",
       "</style>\n",
       "<table border=\"1\" class=\"dataframe\">\n",
       "  <thead>\n",
       "    <tr style=\"text-align: right;\">\n",
       "      <th></th>\n",
       "      <th>City</th>\n",
       "      <th>Country</th>\n",
       "      <th>Lat</th>\n",
       "      <th>Lng</th>\n",
       "      <th>Max Temp</th>\n",
       "      <th>Humidity</th>\n",
       "      <th>Cloudiness</th>\n",
       "      <th>Wind Speed</th>\n",
       "      <th>Current Description</th>\n",
       "    </tr>\n",
       "  </thead>\n",
       "  <tbody>\n",
       "    <tr>\n",
       "      <th>0</th>\n",
       "      <td>Hermanus</td>\n",
       "      <td>ZA</td>\n",
       "      <td>-34.4187</td>\n",
       "      <td>19.2345</td>\n",
       "      <td>70.81</td>\n",
       "      <td>56</td>\n",
       "      <td>54</td>\n",
       "      <td>2.57</td>\n",
       "      <td>broken clouds</td>\n",
       "    </tr>\n",
       "    <tr>\n",
       "      <th>1</th>\n",
       "      <td>Loa Janan</td>\n",
       "      <td>ID</td>\n",
       "      <td>-0.5830</td>\n",
       "      <td>117.0950</td>\n",
       "      <td>75.70</td>\n",
       "      <td>96</td>\n",
       "      <td>97</td>\n",
       "      <td>0.16</td>\n",
       "      <td>overcast clouds</td>\n",
       "    </tr>\n",
       "    <tr>\n",
       "      <th>4</th>\n",
       "      <td>Esperance</td>\n",
       "      <td>AU</td>\n",
       "      <td>-33.8667</td>\n",
       "      <td>121.9000</td>\n",
       "      <td>63.10</td>\n",
       "      <td>64</td>\n",
       "      <td>100</td>\n",
       "      <td>14.38</td>\n",
       "      <td>overcast clouds</td>\n",
       "    </tr>\n",
       "    <tr>\n",
       "      <th>6</th>\n",
       "      <td>Cape Town</td>\n",
       "      <td>ZA</td>\n",
       "      <td>-33.9258</td>\n",
       "      <td>18.4232</td>\n",
       "      <td>74.10</td>\n",
       "      <td>53</td>\n",
       "      <td>64</td>\n",
       "      <td>1.99</td>\n",
       "      <td>broken clouds</td>\n",
       "    </tr>\n",
       "    <tr>\n",
       "      <th>7</th>\n",
       "      <td>Tevaitoa</td>\n",
       "      <td>PF</td>\n",
       "      <td>-16.7833</td>\n",
       "      <td>-151.5000</td>\n",
       "      <td>80.37</td>\n",
       "      <td>75</td>\n",
       "      <td>98</td>\n",
       "      <td>8.25</td>\n",
       "      <td>light rain</td>\n",
       "    </tr>\n",
       "    <tr>\n",
       "      <th>...</th>\n",
       "      <td>...</td>\n",
       "      <td>...</td>\n",
       "      <td>...</td>\n",
       "      <td>...</td>\n",
       "      <td>...</td>\n",
       "      <td>...</td>\n",
       "      <td>...</td>\n",
       "      <td>...</td>\n",
       "      <td>...</td>\n",
       "    </tr>\n",
       "    <tr>\n",
       "      <th>556</th>\n",
       "      <td>Lekoni</td>\n",
       "      <td>GA</td>\n",
       "      <td>-1.5843</td>\n",
       "      <td>14.2591</td>\n",
       "      <td>84.78</td>\n",
       "      <td>57</td>\n",
       "      <td>86</td>\n",
       "      <td>3.24</td>\n",
       "      <td>overcast clouds</td>\n",
       "    </tr>\n",
       "    <tr>\n",
       "      <th>558</th>\n",
       "      <td>Cabedelo</td>\n",
       "      <td>BR</td>\n",
       "      <td>-6.9811</td>\n",
       "      <td>-34.8339</td>\n",
       "      <td>83.07</td>\n",
       "      <td>76</td>\n",
       "      <td>79</td>\n",
       "      <td>15.12</td>\n",
       "      <td>broken clouds</td>\n",
       "    </tr>\n",
       "    <tr>\n",
       "      <th>560</th>\n",
       "      <td>Abadiania</td>\n",
       "      <td>BR</td>\n",
       "      <td>-16.2042</td>\n",
       "      <td>-48.7069</td>\n",
       "      <td>79.72</td>\n",
       "      <td>28</td>\n",
       "      <td>17</td>\n",
       "      <td>4.12</td>\n",
       "      <td>few clouds</td>\n",
       "    </tr>\n",
       "    <tr>\n",
       "      <th>575</th>\n",
       "      <td>Borba</td>\n",
       "      <td>BR</td>\n",
       "      <td>-4.3878</td>\n",
       "      <td>-59.5939</td>\n",
       "      <td>74.59</td>\n",
       "      <td>95</td>\n",
       "      <td>100</td>\n",
       "      <td>3.51</td>\n",
       "      <td>overcast clouds</td>\n",
       "    </tr>\n",
       "    <tr>\n",
       "      <th>576</th>\n",
       "      <td>Tingo Maria</td>\n",
       "      <td>PE</td>\n",
       "      <td>-9.2895</td>\n",
       "      <td>-76.0088</td>\n",
       "      <td>80.91</td>\n",
       "      <td>74</td>\n",
       "      <td>40</td>\n",
       "      <td>4.61</td>\n",
       "      <td>scattered clouds</td>\n",
       "    </tr>\n",
       "  </tbody>\n",
       "</table>\n",
       "<p>178 rows × 9 columns</p>\n",
       "</div>"
      ],
      "text/plain": [
       "            City Country      Lat       Lng  Max Temp  Humidity  Cloudiness  \\\n",
       "0       Hermanus      ZA -34.4187   19.2345     70.81        56          54   \n",
       "1      Loa Janan      ID  -0.5830  117.0950     75.70        96          97   \n",
       "4      Esperance      AU -33.8667  121.9000     63.10        64         100   \n",
       "6      Cape Town      ZA -33.9258   18.4232     74.10        53          64   \n",
       "7       Tevaitoa      PF -16.7833 -151.5000     80.37        75          98   \n",
       "..           ...     ...      ...       ...       ...       ...         ...   \n",
       "556       Lekoni      GA  -1.5843   14.2591     84.78        57          86   \n",
       "558     Cabedelo      BR  -6.9811  -34.8339     83.07        76          79   \n",
       "560    Abadiania      BR -16.2042  -48.7069     79.72        28          17   \n",
       "575        Borba      BR  -4.3878  -59.5939     74.59        95         100   \n",
       "576  Tingo Maria      PE  -9.2895  -76.0088     80.91        74          40   \n",
       "\n",
       "     Wind Speed Current Description  \n",
       "0          2.57       broken clouds  \n",
       "1          0.16     overcast clouds  \n",
       "4         14.38     overcast clouds  \n",
       "6          1.99       broken clouds  \n",
       "7          8.25          light rain  \n",
       "..          ...                 ...  \n",
       "556        3.24     overcast clouds  \n",
       "558       15.12       broken clouds  \n",
       "560        4.12          few clouds  \n",
       "575        3.51     overcast clouds  \n",
       "576        4.61    scattered clouds  \n",
       "\n",
       "[178 rows x 9 columns]"
      ]
     },
     "execution_count": 74,
     "metadata": {},
     "output_type": "execute_result"
    }
   ],
   "source": [
    "nor_hem_df = wthr_data_df[wthr_data_df[\"Lat\"]>0]\n",
    "sth_hem_df = wthr_data_df[wthr_data_df[\"Lat\"]<0]\n"
   ]
  },
  {
   "cell_type": "markdown",
   "metadata": {},
   "source": [
    "####  Northern Hemisphere - Max Temp vs. Latitude Linear Regression"
   ]
  },
  {
   "cell_type": "code",
   "execution_count": 80,
   "metadata": {},
   "outputs": [
    {
     "data": {
      "text/plain": [
       "Text(0.5, 0, 'Latitude')"
      ]
     },
     "execution_count": 80,
     "metadata": {},
     "output_type": "execute_result"
    },
    {
     "data": {
      "image/png": "[encoded data removed]",
      "text/plain": [
       "<Figure size 432x288 with 1 Axes>"
      ]
     },
     "metadata": {
      "needs_background": "light"
     },
     "output_type": "display_data"
    }
   ],
   "source": [
    "x_val=nor_hem_df[\"Lat\"]\n",
    "y_val=nor_hem_df[\"Max Temp\"]\n",
    "(slope, intercept, rvalue, pvalue, stderr) = linregress(x_val, y_val)\n",
    "regress_values = x_val * slope + intercept\n",
    "line_eq = \"y = \" + str(round(slope,2)) + \"x + \" + str(round(intercept,2))\n",
    "plt.scatter(x_val,y_val)\n",
    "plt.plot(x_val,regress_values,\"r-\")\n",
    "plt.title(\"North Hem. Max Temp vs Lat\")\n",
    "plt.annotate(line_eq,(0,20),fontsize=15,color=\"red\")\n",
    "plt.ylabel(\"Tempature (F)\")\n",
    "plt.xlabel(\"Latitude\")"
   ]
  },
  {
   "cell_type": "markdown",
   "metadata": {},
   "source": [
    "####  Southern Hemisphere - Max Temp vs. Latitude Linear Regression"
   ]
  },
  {
   "cell_type": "code",
   "execution_count": 84,
   "metadata": {},
   "outputs": [
    {
     "data": {
      "text/plain": [
       "Text(0.5, 0, 'Latitude')"
      ]
     },
     "execution_count": 84,
     "metadata": {},
     "output_type": "execute_result"
    },
    {
     "data": {
      "image/png": "[encoded data removed]",
      "text/plain": [
       "<Figure size 432x288 with 1 Axes>"
      ]
     },
     "metadata": {
      "needs_background": "light"
     },
     "output_type": "display_data"
    }
   ],
   "source": [
    "x_val=sth_hem_df[\"Lat\"]\n",
    "y_val=sth_hem_df[\"Max Temp\"]\n",
    "(slope, intercept, rvalue, pvalue, stderr) = linregress(x_val, y_val)\n",
    "regress_values = x_val * slope + intercept\n",
    "line_eq = \"y = \" + str(round(slope,2)) + \"x + \" + str(round(intercept,2))\n",
    "plt.scatter(x_val,y_val)\n",
    "plt.plot(x_val,regress_values,\"r-\")\n",
    "plt.title(\"South Hem. Max Temp vs Lat\")\n",
    "plt.annotate(line_eq,(-50,90),fontsize=15,color=\"red\")\n",
    "plt.ylabel(\"Tempature (F)\")\n",
    "plt.xlabel(\"Latitude\")"
   ]
  },
  {
   "cell_type": "markdown",
   "metadata": {},
   "source": [
    "####  Northern Hemisphere - Humidity (%) vs. Latitude Linear Regression"
   ]
  },
  {
   "cell_type": "code",
   "execution_count": 87,
   "metadata": {},
   "outputs": [
    {
     "data": {
      "text/plain": [
       "Text(0.5, 0, 'Latitude')"
      ]
     },
     "execution_count": 87,
     "metadata": {},
     "output_type": "execute_result"
    },
    {
     "data": {
      "image/png": "[encoded data removed]",
      "text/plain": [
       "<Figure size 432x288 with 1 Axes>"
      ]
     },
     "metadata": {
      "needs_background": "light"
     },
     "output_type": "display_data"
    }
   ],
   "source": [
    "x_val=nor_hem_df[\"Lat\"]\n",
    "y_val=nor_hem_df[\"Humidity\"]\n",
    "(slope, intercept, rvalue, pvalue, stderr) = linregress(x_val, y_val)\n",
    "regress_values = x_val * slope + intercept\n",
    "line_eq = \"y = \" + str(round(slope,2)) + \"x + \" + str(round(intercept,2))\n",
    "plt.scatter(x_val,y_val)\n",
    "plt.plot(x_val,regress_values,\"r-\")\n",
    "plt.title(\"North Hem. Humidity (%) vs Lat\")\n",
    "plt.annotate(line_eq,(50,18),fontsize=15,color=\"red\")\n",
    "plt.ylabel(\"Humidity (%)\")\n",
    "plt.xlabel(\"Latitude\")"
   ]
  },
  {
   "cell_type": "markdown",
   "metadata": {},
   "source": [
    "####  Southern Hemisphere - Humidity (%) vs. Latitude Linear Regression"
   ]
  },
  {
   "cell_type": "code",
   "execution_count": 90,
   "metadata": {},
   "outputs": [
    {
     "data": {
      "text/plain": [
       "Text(0.5, 0, 'Latitude')"
      ]
     },
     "execution_count": 90,
     "metadata": {},
     "output_type": "execute_result"
    },
    {
     "data": {
      "image/png": "[encoded data removed]",
      "text/plain": [
       "<Figure size 432x288 with 1 Axes>"
      ]
     },
     "metadata": {
      "needs_background": "light"
     },
     "output_type": "display_data"
    }
   ],
   "source": [
    "x_val=sth_hem_df[\"Lat\"]\n",
    "y_val=sth_hem_df[\"Humidity\"]\n",
    "(slope, intercept, rvalue, pvalue, stderr) = linregress(x_val, y_val)\n",
    "regress_values = x_val * slope + intercept\n",
    "line_eq = \"y = \" + str(round(slope,2)) + \"x + \" + str(round(intercept,2))\n",
    "plt.scatter(x_val,y_val)\n",
    "plt.plot(x_val,regress_values,\"r-\")\n",
    "plt.title(\"South Hem. Humidity (%) vs Lat\")\n",
    "plt.annotate(line_eq,(-55,25),fontsize=15,color=\"red\")\n",
    "plt.ylabel(\"Humidity (%)\")\n",
    "plt.xlabel(\"Latitude\")"
   ]
  },
  {
   "cell_type": "markdown",
   "metadata": {},
   "source": [
    "####  Northern Hemisphere - Cloudiness (%) vs. Latitude Linear Regression"
   ]
  },
  {
   "cell_type": "code",
   "execution_count": 92,
   "metadata": {},
   "outputs": [
    {
     "data": {
      "text/plain": [
       "Text(0.5, 0, 'Latitude')"
      ]
     },
     "execution_count": 92,
     "metadata": {},
     "output_type": "execute_result"
    },
    {
     "data": {
      "image/png": "[encoded data removed]",
      "text/plain": [
       "<Figure size 432x288 with 1 Axes>"
      ]
     },
     "metadata": {
      "needs_background": "light"
     },
     "output_type": "display_data"
    }
   ],
   "source": [
    "x_val=nor_hem_df[\"Lat\"]\n",
    "y_val=nor_hem_df[\"Cloudiness\"]\n",
    "(slope, intercept, rvalue, pvalue, stderr) = linregress(x_val, y_val)\n",
    "regress_values = x_val * slope + intercept\n",
    "line_eq = \"y = \" + str(round(slope,2)) + \"x + \" + str(round(intercept,2))\n",
    "plt.scatter(x_val,y_val)\n",
    "plt.plot(x_val,regress_values,\"r-\")\n",
    "plt.title(\"North Hem. Cloudiness vs Lat\")\n",
    "plt.annotate(line_eq,(50,18),fontsize=15,color=\"red\")\n",
    "plt.ylabel(\"Cloudiness\")\n",
    "plt.xlabel(\"Latitude\")"
   ]
  },
  {
   "cell_type": "markdown",
   "metadata": {},
   "source": [
    "####  Southern Hemisphere - Cloudiness (%) vs. Latitude Linear Regression"
   ]
  },
  {
   "cell_type": "code",
   "execution_count": 95,
   "metadata": {},
   "outputs": [
    {
     "data": {
      "text/plain": [
       "Text(0.5, 0, 'Latitude')"
      ]
     },
     "execution_count": 95,
     "metadata": {},
     "output_type": "execute_result"
    },
    {
     "data": {
      "image/png": "[encoded data removed]",
      "text/plain": [
       "<Figure size 432x288 with 1 Axes>"
      ]
     },
     "metadata": {
      "needs_background": "light"
     },
     "output_type": "display_data"
    }
   ],
   "source": [
    "x_val=sth_hem_df[\"Lat\"]\n",
    "y_val=sth_hem_df[\"Cloudiness\"]\n",
    "(slope, intercept, rvalue, pvalue, stderr) = linregress(x_val, y_val)\n",
    "regress_values = x_val * slope + intercept\n",
    "line_eq = \"y = \" + str(round(slope,2)) + \"x + \" + str(round(intercept,2))\n",
    "plt.scatter(x_val,y_val)\n",
    "plt.plot(x_val,regress_values,\"r-\")\n",
    "plt.title(\"South Hem. Cloudiness vs Lat\")\n",
    "plt.annotate(line_eq,(-55,68),fontsize=15,color=\"red\")\n",
    "plt.ylabel(\"Cloudiness\")\n",
    "plt.xlabel(\"Latitude\")"
   ]
  },
  {
   "cell_type": "markdown",
   "metadata": {},
   "source": [
    "####  Northern Hemisphere - Wind Speed (mph) vs. Latitude Linear Regression"
   ]
  },
  {
   "cell_type": "code",
   "execution_count": 97,
   "metadata": {},
   "outputs": [
    {
     "data": {
      "text/plain": [
       "Text(0.5, 0, 'Latitude')"
      ]
     },
     "execution_count": 97,
     "metadata": {},
     "output_type": "execute_result"
    },
    {
     "data": {
      "image/png": "[encoded data removed]",
      "text/plain": [
       "<Figure size 432x288 with 1 Axes>"
      ]
     },
     "metadata": {
      "needs_background": "light"
     },
     "output_type": "display_data"
    }
   ],
   "source": [
    "x_val=nor_hem_df[\"Lat\"]\n",
    "y_val=nor_hem_df[\"Wind Speed\"]\n",
    "(slope, intercept, rvalue, pvalue, stderr) = linregress(x_val, y_val)\n",
    "regress_values = x_val * slope + intercept\n",
    "line_eq = \"y = \" + str(round(slope,2)) + \"x + \" + str(round(intercept,2))\n",
    "plt.scatter(x_val,y_val)\n",
    "plt.plot(x_val,regress_values,\"r-\")\n",
    "plt.title(\"North Hem. Wind Speed vs Lat\")\n",
    "plt.annotate(line_eq,(5,25),fontsize=15,color=\"red\")\n",
    "plt.ylabel(\"Wind Speed\")\n",
    "plt.xlabel(\"Latitude\")"
   ]
  },
  {
   "cell_type": "markdown",
   "metadata": {},
   "source": [
    "####  Southern Hemisphere - Wind Speed (mph) vs. Latitude Linear Regression"
   ]
  },
  {
   "cell_type": "code",
   "execution_count": 102,
   "metadata": {},
   "outputs": [
    {
     "data": {
      "text/plain": [
       "Text(0.5, 0, 'Latitude')"
      ]
     },
     "execution_count": 102,
     "metadata": {},
     "output_type": "execute_result"
    },
    {
     "data": {
      "image/png": "[encoded data removed]",
      "text/plain": [
       "<Figure size 432x288 with 1 Axes>"
      ]
     },
     "metadata": {
      "needs_background": "light"
     },
     "output_type": "display_data"
    }
   ],
   "source": [
    "x_val=sth_hem_df[\"Lat\"]\n",
    "y_val=sth_hem_df[\"Wind Speed\"]\n",
    "(slope, intercept, rvalue, pvalue, stderr) = linregress(x_val, y_val)\n",
    "regress_values = x_val * slope + intercept\n",
    "line_eq = \"y = \" + str(round(slope,2)) + \"x + \" + str(round(intercept,2))\n",
    "plt.scatter(x_val,y_val)\n",
    "plt.plot(x_val,regress_values,\"r-\")\n",
    "plt.title(\"South Hem. Wind Speed vs Lat\")\n",
    "plt.annotate(line_eq,(-22,23),fontsize=15,color=\"red\")\n",
    "plt.ylabel(\"Wind Speed\")\n",
    "plt.xlabel(\"Latitude\")"
   ]
  },
  {
   "cell_type": "code",
   "execution_count": null,
   "metadata": {},
   "outputs": [],
   "source": [
    "#OBSERVATIONS\n",
    "#1. Southern Hemisphere stays warmer then the Northern Hempisphere based on minimum Tempatures.\n",
    "#2. There is no signifigant correlation between humidity and latitude.\n",
    "#3. Wind speeds do not have signifigant change between north and south hemisphere."
   ]
  }
 ],
 "metadata": {
  "anaconda-cloud": {},
  "kernel_info": {
   "name": "python3"
  },
  "kernelspec": {
   "display_name": "Python 3 (ipykernel)",
   "language": "python",
   "name": "python3"
  },
  "language_info": {
   "codemirror_mode": {
    "name": "ipython",
    "version": 3
   },
   "file_extension": ".py",
   "mimetype": "text/x-python",
   "name": "python",
   "nbconvert_exporter": "python",
   "pygments_lexer": "ipython3",
   "version": "3.9.7"
  },
  "latex_envs": {
   "LaTeX_envs_menu_present": true,
   "autoclose": false,
   "autocomplete": true,
   "bibliofile": "biblio.bib",
   "cite_by": "apalike",
   "current_citInitial": 1,
   "eqLabelWithNumbers": true,
   "eqNumInitial": 1,
   "hotkeys": {
    "equation": "Ctrl-E",
    "itemize": "Ctrl-I"
   },
   "labels_anchors": false,
   "latex_user_defs": false,
   "report_style_numbering": false,
   "user_envs_cfg": false
  },
  "nteract": {
   "version": "0.12.3"
  }
 },
 "nbformat": 4,
 "nbformat_minor": 4
}
